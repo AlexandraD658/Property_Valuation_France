{
  "nbformat": 4,
  "nbformat_minor": 0,
  "metadata": {
    "colab": {
      "name": "Projet_Data_Science.ipynb",
      "provenance": [],
      "collapsed_sections": [],
      "machine_shape": "hm"
    },
    "kernelspec": {
      "name": "python3",
      "display_name": "Python 3"
    }
  },
  "cells": [
    {
      "cell_type": "code",
      "metadata": {
        "id": "HrB2RXHXtmXO"
      },
      "source": [
        "import pandas as pd \n",
        "import numpy as np \n",
        "import matplotlib.pyplot as plt\n",
        "import seaborn as sns\n",
        "from scipy.stats import norm\n",
        "from sklearn.neighbors import BallTree\n",
        "import requests\n",
        "from sklearn.metrics import make_scorer\n",
        "from sklearn.model_selection import train_test_split\n",
        "from sklearn.ensemble import RandomForestRegressor\n",
        "from sklearn.preprocessing import StandardScaler"
      ],
      "execution_count": null,
      "outputs": []
    },
    {
      "cell_type": "markdown",
      "metadata": {
        "id": "iWBT2qv5MQlJ"
      },
      "source": [
        "Téléchargement des données : 2015 - 2020\n",
        "*   Données Train : 2015 - 2019\n",
        "*   Données Test : 2020\n",
        "\n",
        "-------------------------------------\n",
        "\n",
        "Data download: 2015 - 2020\n",
        "* Train data: 2015 - 2019\n",
        "* Test data: 2020\n",
        "\n",
        "\n",
        "\n"
      ]
    },
    {
      "cell_type": "code",
      "metadata": {
        "id": "FPqie_FazJwB",
        "colab": {
          "base_uri": "https://localhost:8080/"
        },
        "outputId": "7d159ab0-975d-43ed-9957-1a384796c352"
      },
      "source": [
        "df_2015 = pd.read_csv(\"https://cadastre.data.gouv.fr/data/etalab-dvf/latest/csv/2015/full.csv.gz\")\n",
        "df_2016 = pd.read_csv(\"https://cadastre.data.gouv.fr/data/etalab-dvf/latest/csv/2016/full.csv.gz\")\n",
        "df_2017 = pd.read_csv(\"https://cadastre.data.gouv.fr/data/etalab-dvf/latest/csv/2017/full.csv.gz\")\n",
        "df_2018 = pd.read_csv(\"https://cadastre.data.gouv.fr/data/etalab-dvf/latest/csv/2018/full.csv.gz\")\n",
        "df_2019 = pd.read_csv(\"https://cadastre.data.gouv.fr/data/etalab-dvf/latest/csv/2019/full.csv.gz\")\n",
        "df_2020 = pd.read_csv(\"https://cadastre.data.gouv.fr/data/etalab-dvf/latest/csv/2020/full.csv.gz\")"
      ],
      "execution_count": null,
      "outputs": [
        {
          "output_type": "stream",
          "text": [
            "/usr/local/lib/python3.7/dist-packages/IPython/core/interactiveshell.py:2718: DtypeWarning: Columns (10,12,14,16,17,18,20,22,24,35,36) have mixed types.Specify dtype option on import or set low_memory=False.\n",
            "  interactivity=interactivity, compiler=compiler, result=result)\n",
            "/usr/local/lib/python3.7/dist-packages/IPython/core/interactiveshell.py:2718: DtypeWarning: Columns (10,12,14,16,17,18,20,22,24,26,35,36) have mixed types.Specify dtype option on import or set low_memory=False.\n",
            "  interactivity=interactivity, compiler=compiler, result=result)\n",
            "/usr/local/lib/python3.7/dist-packages/IPython/core/interactiveshell.py:2718: DtypeWarning: Columns (10,12,14,16,17,18,20,22,35,36) have mixed types.Specify dtype option on import or set low_memory=False.\n",
            "  interactivity=interactivity, compiler=compiler, result=result)\n",
            "/usr/local/lib/python3.7/dist-packages/IPython/core/interactiveshell.py:2718: DtypeWarning: Columns (8,10,12,14,16,17,18,20,22,26,35,36) have mixed types.Specify dtype option on import or set low_memory=False.\n",
            "  interactivity=interactivity, compiler=compiler, result=result)\n",
            "/usr/local/lib/python3.7/dist-packages/IPython/core/interactiveshell.py:2718: DtypeWarning: Columns (10,12,17,18,20,22,35,36) have mixed types.Specify dtype option on import or set low_memory=False.\n",
            "  interactivity=interactivity, compiler=compiler, result=result)\n"
          ],
          "name": "stderr"
        }
      ]
    },
    {
      "cell_type": "markdown",
      "metadata": {
        "id": "WUQSRkw3M5Sd"
      },
      "source": [
        "Découverte des données\n",
        "\n",
        "-----------------------------------------\n",
        "\n",
        "Data discovery"
      ]
    },
    {
      "cell_type": "code",
      "metadata": {
        "colab": {
          "base_uri": "https://localhost:8080/"
        },
        "id": "VVaLgJ6o2qKc",
        "outputId": "4921d30a-e8c4-45ad-aabf-a2b6be2e04da"
      },
      "source": [
        "len(df_2015.columns),len(df_2016.columns),len(df_2017.columns),len(df_2018.columns),len(df_2019.columns)"
      ],
      "execution_count": null,
      "outputs": [
        {
          "output_type": "execute_result",
          "data": {
            "text/plain": [
              "(40, 40, 40, 40, 40)"
            ]
          },
          "metadata": {
            "tags": []
          },
          "execution_count": 3
        }
      ]
    },
    {
      "cell_type": "code",
      "metadata": {
        "colab": {
          "base_uri": "https://localhost:8080/"
        },
        "id": "0dUSdNGg2qNO",
        "outputId": "ea5fb0f7-2208-4a90-e82c-c5db896efeba"
      },
      "source": [
        "len(df_2015),len(df_2016),len(df_2017),len(df_2018),len(df_2019)"
      ],
      "execution_count": null,
      "outputs": [
        {
          "output_type": "execute_result",
          "data": {
            "text/plain": [
              "(2750305, 2939004, 3381190, 3319426, 3142952)"
            ]
          },
          "metadata": {
            "tags": []
          },
          "execution_count": 3
        }
      ]
    },
    {
      "cell_type": "code",
      "metadata": {
        "id": "CzEgl6GQzJy5",
        "colab": {
          "base_uri": "https://localhost:8080/",
          "height": 278
        },
        "outputId": "565ccf76-279c-4e59-929b-d9bae447907a"
      },
      "source": [
        "df = pd.concat([df_2015, df_2016, df_2017, df_2018, df_2019])\n",
        "\n",
        "df.head()"
      ],
      "execution_count": null,
      "outputs": [
        {
          "output_type": "execute_result",
          "data": {
            "text/html": [
              "<div>\n",
              "<style scoped>\n",
              "    .dataframe tbody tr th:only-of-type {\n",
              "        vertical-align: middle;\n",
              "    }\n",
              "\n",
              "    .dataframe tbody tr th {\n",
              "        vertical-align: top;\n",
              "    }\n",
              "\n",
              "    .dataframe thead th {\n",
              "        text-align: right;\n",
              "    }\n",
              "</style>\n",
              "<table border=\"1\" class=\"dataframe\">\n",
              "  <thead>\n",
              "    <tr style=\"text-align: right;\">\n",
              "      <th></th>\n",
              "      <th>id_mutation</th>\n",
              "      <th>date_mutation</th>\n",
              "      <th>numero_disposition</th>\n",
              "      <th>nature_mutation</th>\n",
              "      <th>valeur_fonciere</th>\n",
              "      <th>adresse_numero</th>\n",
              "      <th>adresse_suffixe</th>\n",
              "      <th>adresse_nom_voie</th>\n",
              "      <th>adresse_code_voie</th>\n",
              "      <th>code_postal</th>\n",
              "      <th>code_commune</th>\n",
              "      <th>nom_commune</th>\n",
              "      <th>code_departement</th>\n",
              "      <th>ancien_code_commune</th>\n",
              "      <th>ancien_nom_commune</th>\n",
              "      <th>id_parcelle</th>\n",
              "      <th>ancien_id_parcelle</th>\n",
              "      <th>numero_volume</th>\n",
              "      <th>lot1_numero</th>\n",
              "      <th>lot1_surface_carrez</th>\n",
              "      <th>lot2_numero</th>\n",
              "      <th>lot2_surface_carrez</th>\n",
              "      <th>lot3_numero</th>\n",
              "      <th>lot3_surface_carrez</th>\n",
              "      <th>lot4_numero</th>\n",
              "      <th>lot4_surface_carrez</th>\n",
              "      <th>lot5_numero</th>\n",
              "      <th>lot5_surface_carrez</th>\n",
              "      <th>nombre_lots</th>\n",
              "      <th>code_type_local</th>\n",
              "      <th>type_local</th>\n",
              "      <th>surface_reelle_bati</th>\n",
              "      <th>nombre_pieces_principales</th>\n",
              "      <th>code_nature_culture</th>\n",
              "      <th>nature_culture</th>\n",
              "      <th>code_nature_culture_speciale</th>\n",
              "      <th>nature_culture_speciale</th>\n",
              "      <th>surface_terrain</th>\n",
              "      <th>longitude</th>\n",
              "      <th>latitude</th>\n",
              "    </tr>\n",
              "  </thead>\n",
              "  <tbody>\n",
              "    <tr>\n",
              "      <th>0</th>\n",
              "      <td>2015-1</td>\n",
              "      <td>2015-01-05</td>\n",
              "      <td>2</td>\n",
              "      <td>Vente</td>\n",
              "      <td>120.0</td>\n",
              "      <td>NaN</td>\n",
              "      <td>NaN</td>\n",
              "      <td>ENTRE LES CHEMINS</td>\n",
              "      <td>B181</td>\n",
              "      <td>1250.0</td>\n",
              "      <td>1245</td>\n",
              "      <td>Bohas-Meyriat-Rignat</td>\n",
              "      <td>1</td>\n",
              "      <td>NaN</td>\n",
              "      <td>NaN</td>\n",
              "      <td>012450480B0805</td>\n",
              "      <td>NaN</td>\n",
              "      <td>NaN</td>\n",
              "      <td>NaN</td>\n",
              "      <td>NaN</td>\n",
              "      <td>NaN</td>\n",
              "      <td>NaN</td>\n",
              "      <td>NaN</td>\n",
              "      <td>NaN</td>\n",
              "      <td>NaN</td>\n",
              "      <td>NaN</td>\n",
              "      <td>NaN</td>\n",
              "      <td>NaN</td>\n",
              "      <td>0</td>\n",
              "      <td>NaN</td>\n",
              "      <td>NaN</td>\n",
              "      <td>NaN</td>\n",
              "      <td>NaN</td>\n",
              "      <td>P</td>\n",
              "      <td>prés</td>\n",
              "      <td>NaN</td>\n",
              "      <td>NaN</td>\n",
              "      <td>82.0</td>\n",
              "      <td>5.393771</td>\n",
              "      <td>46.161144</td>\n",
              "    </tr>\n",
              "    <tr>\n",
              "      <th>1</th>\n",
              "      <td>2015-2</td>\n",
              "      <td>2015-01-09</td>\n",
              "      <td>1</td>\n",
              "      <td>Vente</td>\n",
              "      <td>12400.0</td>\n",
              "      <td>NaN</td>\n",
              "      <td>NaN</td>\n",
              "      <td>VIGNIEUX</td>\n",
              "      <td>B100</td>\n",
              "      <td>1340.0</td>\n",
              "      <td>1196</td>\n",
              "      <td>Jayat</td>\n",
              "      <td>1</td>\n",
              "      <td>NaN</td>\n",
              "      <td>NaN</td>\n",
              "      <td>011960000A0981</td>\n",
              "      <td>NaN</td>\n",
              "      <td>NaN</td>\n",
              "      <td>NaN</td>\n",
              "      <td>NaN</td>\n",
              "      <td>NaN</td>\n",
              "      <td>NaN</td>\n",
              "      <td>NaN</td>\n",
              "      <td>NaN</td>\n",
              "      <td>NaN</td>\n",
              "      <td>NaN</td>\n",
              "      <td>NaN</td>\n",
              "      <td>NaN</td>\n",
              "      <td>0</td>\n",
              "      <td>NaN</td>\n",
              "      <td>NaN</td>\n",
              "      <td>NaN</td>\n",
              "      <td>NaN</td>\n",
              "      <td>AB</td>\n",
              "      <td>terrains a bâtir</td>\n",
              "      <td>NaN</td>\n",
              "      <td>NaN</td>\n",
              "      <td>1550.0</td>\n",
              "      <td>5.116832</td>\n",
              "      <td>46.378377</td>\n",
              "    </tr>\n",
              "    <tr>\n",
              "      <th>2</th>\n",
              "      <td>2015-3</td>\n",
              "      <td>2015-01-05</td>\n",
              "      <td>2</td>\n",
              "      <td>Vente</td>\n",
              "      <td>110.0</td>\n",
              "      <td>NaN</td>\n",
              "      <td>NaN</td>\n",
              "      <td>ENTRE LES CHEMINS</td>\n",
              "      <td>B181</td>\n",
              "      <td>1250.0</td>\n",
              "      <td>1245</td>\n",
              "      <td>Bohas-Meyriat-Rignat</td>\n",
              "      <td>1</td>\n",
              "      <td>NaN</td>\n",
              "      <td>NaN</td>\n",
              "      <td>012450480B0799</td>\n",
              "      <td>NaN</td>\n",
              "      <td>NaN</td>\n",
              "      <td>NaN</td>\n",
              "      <td>NaN</td>\n",
              "      <td>NaN</td>\n",
              "      <td>NaN</td>\n",
              "      <td>NaN</td>\n",
              "      <td>NaN</td>\n",
              "      <td>NaN</td>\n",
              "      <td>NaN</td>\n",
              "      <td>NaN</td>\n",
              "      <td>NaN</td>\n",
              "      <td>0</td>\n",
              "      <td>NaN</td>\n",
              "      <td>NaN</td>\n",
              "      <td>NaN</td>\n",
              "      <td>NaN</td>\n",
              "      <td>P</td>\n",
              "      <td>prés</td>\n",
              "      <td>NaN</td>\n",
              "      <td>NaN</td>\n",
              "      <td>4.0</td>\n",
              "      <td>5.394334</td>\n",
              "      <td>46.161161</td>\n",
              "    </tr>\n",
              "    <tr>\n",
              "      <th>3</th>\n",
              "      <td>2015-4</td>\n",
              "      <td>2015-01-07</td>\n",
              "      <td>2</td>\n",
              "      <td>Vente</td>\n",
              "      <td>180.0</td>\n",
              "      <td>NaN</td>\n",
              "      <td>NaN</td>\n",
              "      <td>ENTRE LES CHEMINS</td>\n",
              "      <td>B181</td>\n",
              "      <td>1250.0</td>\n",
              "      <td>1245</td>\n",
              "      <td>Bohas-Meyriat-Rignat</td>\n",
              "      <td>1</td>\n",
              "      <td>NaN</td>\n",
              "      <td>NaN</td>\n",
              "      <td>012450480B0798</td>\n",
              "      <td>NaN</td>\n",
              "      <td>NaN</td>\n",
              "      <td>NaN</td>\n",
              "      <td>NaN</td>\n",
              "      <td>NaN</td>\n",
              "      <td>NaN</td>\n",
              "      <td>NaN</td>\n",
              "      <td>NaN</td>\n",
              "      <td>NaN</td>\n",
              "      <td>NaN</td>\n",
              "      <td>NaN</td>\n",
              "      <td>NaN</td>\n",
              "      <td>0</td>\n",
              "      <td>NaN</td>\n",
              "      <td>NaN</td>\n",
              "      <td>NaN</td>\n",
              "      <td>NaN</td>\n",
              "      <td>P</td>\n",
              "      <td>prés</td>\n",
              "      <td>NaN</td>\n",
              "      <td>NaN</td>\n",
              "      <td>298.0</td>\n",
              "      <td>5.394796</td>\n",
              "      <td>46.161583</td>\n",
              "    </tr>\n",
              "    <tr>\n",
              "      <th>4</th>\n",
              "      <td>2015-5</td>\n",
              "      <td>2015-01-12</td>\n",
              "      <td>1</td>\n",
              "      <td>Vente</td>\n",
              "      <td>95000.0</td>\n",
              "      <td>5383.0</td>\n",
              "      <td>NaN</td>\n",
              "      <td>LE BOURG</td>\n",
              "      <td>B026</td>\n",
              "      <td>1160.0</td>\n",
              "      <td>1314</td>\n",
              "      <td>Priay</td>\n",
              "      <td>1</td>\n",
              "      <td>NaN</td>\n",
              "      <td>NaN</td>\n",
              "      <td>013140000E0644</td>\n",
              "      <td>NaN</td>\n",
              "      <td>NaN</td>\n",
              "      <td>NaN</td>\n",
              "      <td>NaN</td>\n",
              "      <td>NaN</td>\n",
              "      <td>NaN</td>\n",
              "      <td>NaN</td>\n",
              "      <td>NaN</td>\n",
              "      <td>NaN</td>\n",
              "      <td>NaN</td>\n",
              "      <td>NaN</td>\n",
              "      <td>NaN</td>\n",
              "      <td>0</td>\n",
              "      <td>3.0</td>\n",
              "      <td>Dépendance</td>\n",
              "      <td>NaN</td>\n",
              "      <td>0.0</td>\n",
              "      <td>S</td>\n",
              "      <td>sols</td>\n",
              "      <td>NaN</td>\n",
              "      <td>NaN</td>\n",
              "      <td>195.0</td>\n",
              "      <td>5.291586</td>\n",
              "      <td>46.002868</td>\n",
              "    </tr>\n",
              "  </tbody>\n",
              "</table>\n",
              "</div>"
            ],
            "text/plain": [
              "  id_mutation date_mutation  ...  longitude   latitude\n",
              "0      2015-1    2015-01-05  ...   5.393771  46.161144\n",
              "1      2015-2    2015-01-09  ...   5.116832  46.378377\n",
              "2      2015-3    2015-01-05  ...   5.394334  46.161161\n",
              "3      2015-4    2015-01-07  ...   5.394796  46.161583\n",
              "4      2015-5    2015-01-12  ...   5.291586  46.002868\n",
              "\n",
              "[5 rows x 40 columns]"
            ]
          },
          "metadata": {
            "tags": []
          },
          "execution_count": 3
        }
      ]
    },
    {
      "cell_type": "code",
      "metadata": {
        "colab": {
          "base_uri": "https://localhost:8080/"
        },
        "id": "BjgBH99m4C3b",
        "outputId": "e9028b48-9ca7-4c71-9fc6-bf7f96b8cd0d"
      },
      "source": [
        "df.columns"
      ],
      "execution_count": null,
      "outputs": [
        {
          "output_type": "execute_result",
          "data": {
            "text/plain": [
              "Index(['id_mutation', 'date_mutation', 'numero_disposition', 'nature_mutation',\n",
              "       'valeur_fonciere', 'adresse_numero', 'adresse_suffixe',\n",
              "       'adresse_nom_voie', 'adresse_code_voie', 'code_postal', 'code_commune',\n",
              "       'nom_commune', 'code_departement', 'ancien_code_commune',\n",
              "       'ancien_nom_commune', 'id_parcelle', 'ancien_id_parcelle',\n",
              "       'numero_volume', 'lot1_numero', 'lot1_surface_carrez', 'lot2_numero',\n",
              "       'lot2_surface_carrez', 'lot3_numero', 'lot3_surface_carrez',\n",
              "       'lot4_numero', 'lot4_surface_carrez', 'lot5_numero',\n",
              "       'lot5_surface_carrez', 'nombre_lots', 'code_type_local', 'type_local',\n",
              "       'surface_reelle_bati', 'nombre_pieces_principales',\n",
              "       'code_nature_culture', 'nature_culture', 'code_nature_culture_speciale',\n",
              "       'nature_culture_speciale', 'surface_terrain', 'longitude', 'latitude'],\n",
              "      dtype='object')"
            ]
          },
          "metadata": {
            "tags": []
          },
          "execution_count": 5
        }
      ]
    },
    {
      "cell_type": "code",
      "metadata": {
        "colab": {
          "base_uri": "https://localhost:8080/"
        },
        "id": "1K5ZDF6198i0",
        "outputId": "d864eec6-7c1e-4b58-a490-893d5a191e0b"
      },
      "source": [
        "set(df['nature_mutation'].values)"
      ],
      "execution_count": null,
      "outputs": [
        {
          "output_type": "execute_result",
          "data": {
            "text/plain": [
              "{'Adjudication',\n",
              " 'Echange',\n",
              " 'Expropriation',\n",
              " 'Vente',\n",
              " \"Vente en l'état futur d'achèvement\",\n",
              " 'Vente terrain à bâtir'}"
            ]
          },
          "metadata": {
            "tags": []
          },
          "execution_count": 21
        }
      ]
    },
    {
      "cell_type": "code",
      "metadata": {
        "colab": {
          "base_uri": "https://localhost:8080/"
        },
        "id": "XKhQb42XDs8b",
        "outputId": "c9bce150-866b-46b4-87d6-acbc0ad9228b"
      },
      "source": [
        "df.dtypes"
      ],
      "execution_count": null,
      "outputs": [
        {
          "output_type": "execute_result",
          "data": {
            "text/plain": [
              "id_mutation                      object\n",
              "date_mutation                    object\n",
              "numero_disposition                int64\n",
              "nature_mutation                  object\n",
              "valeur_fonciere                 float64\n",
              "adresse_numero                  float64\n",
              "adresse_suffixe                  object\n",
              "adresse_nom_voie                 object\n",
              "adresse_code_voie                object\n",
              "code_postal                     float64\n",
              "code_commune                     object\n",
              "nom_commune                      object\n",
              "code_departement                 object\n",
              "ancien_code_commune             float64\n",
              "ancien_nom_commune               object\n",
              "id_parcelle                      object\n",
              "ancien_id_parcelle               object\n",
              "numero_volume                    object\n",
              "lot1_numero                      object\n",
              "lot1_surface_carrez             float64\n",
              "lot2_numero                      object\n",
              "lot2_surface_carrez             float64\n",
              "lot3_numero                      object\n",
              "lot3_surface_carrez             float64\n",
              "lot4_numero                      object\n",
              "lot4_surface_carrez             float64\n",
              "lot5_numero                      object\n",
              "lot5_surface_carrez             float64\n",
              "nombre_lots                       int64\n",
              "code_type_local                 float64\n",
              "type_local                       object\n",
              "surface_reelle_bati             float64\n",
              "nombre_pieces_principales       float64\n",
              "code_nature_culture              object\n",
              "nature_culture                   object\n",
              "code_nature_culture_speciale     object\n",
              "nature_culture_speciale          object\n",
              "surface_terrain                 float64\n",
              "longitude                       float64\n",
              "latitude                        float64\n",
              "dtype: object"
            ]
          },
          "metadata": {
            "tags": []
          },
          "execution_count": 9
        }
      ]
    },
    {
      "cell_type": "code",
      "metadata": {
        "colab": {
          "base_uri": "https://localhost:8080/"
        },
        "id": "XOkZLAslPpuD",
        "outputId": "1c42a97e-8c75-485f-a945-e8239e570359"
      },
      "source": [
        "df['valeur_fonciere'][12]"
      ],
      "execution_count": null,
      "outputs": [
        {
          "output_type": "execute_result",
          "data": {
            "text/plain": [
              "12     239700.0\n",
              "12    7915000.0\n",
              "12     162000.0\n",
              "12      76200.0\n",
              "12         70.0\n",
              "Name: valeur_fonciere, dtype: float64"
            ]
          },
          "metadata": {
            "tags": []
          },
          "execution_count": 5
        }
      ]
    },
    {
      "cell_type": "markdown",
      "metadata": {
        "id": "sCivVa3xNDwE"
      },
      "source": [
        "Fitre du DataSet\n",
        "\n",
        "\n",
        "*   Mieux manipuler les données \n",
        "*   Meilleur analyse\n",
        "*   Meilleur prédiction \n",
        "\n",
        "\n",
        "-------------------------------------------------------------------------------\n",
        "\n",
        "DataSet filter\n",
        "\n",
        "* Better manipulate data\n",
        "* Better analysis\n",
        "* Best prediction\n",
        "\n"
      ]
    },
    {
      "cell_type": "code",
      "metadata": {
        "id": "uTbizOViOarl"
      },
      "source": [
        "#filtre du data set\n",
        "\n",
        "df = df[(df['nature_mutation'] == \"Vente\") | (df['nature_mutation'] == \"Vente en l'état futur d'achèvement\")]\n",
        "df = df[(df['nombre_lots'] == 0) | (df['nombre_lots'] == 1)]\n",
        "df = df[df['surface_reelle_bati']!=0]\n",
        "df = df[df['surface_reelle_bati'].notna()]\n",
        "df = df[df['valeur_fonciere'].notna()]\n",
        "\n",
        "\n",
        "#appart.drop(columns=['Adresse'],axis=1)\n",
        "df['adresse_numero']=df['adresse_numero'].fillna('0').astype(int)\n",
        "df['adresse_suffixe']=df['adresse_suffixe'].fillna(' ')\n",
        "df['adresse_nom_voie']=df['adresse_nom_voie'].fillna(' ')\n",
        "df['code_postal']=df['code_postal'].fillna('0').astype(int)\n",
        "df['nom_commune']=df['nom_commune'].fillna(' ')\n",
        "\n",
        "df['Adresse']=df['adresse_code_voie'].astype(str)+' '+df['adresse_suffixe'].astype(str)+' '+df['adresse_nom_voie'].astype(str)+' '+df['nom_commune'].astype(str)+' '+df['code_postal'].astype(str)+' '+'France'\n",
        "df.reset_index(drop=True, inplace=True)"
      ],
      "execution_count": null,
      "outputs": []
    },
    {
      "cell_type": "code",
      "metadata": {
        "colab": {
          "base_uri": "https://localhost:8080/"
        },
        "id": "TNfbHpvon-tn",
        "outputId": "0fc54007-e22c-45da-80e5-765564c11fc5"
      },
      "source": [
        "df.isna().sum()"
      ],
      "execution_count": null,
      "outputs": [
        {
          "output_type": "execute_result",
          "data": {
            "text/plain": [
              "id_mutation                            0\n",
              "date_mutation                          0\n",
              "numero_disposition                     0\n",
              "nature_mutation                        0\n",
              "valeur_fonciere                   209402\n",
              "adresse_numero                   6520989\n",
              "adresse_suffixe                 14874238\n",
              "adresse_nom_voie                  142291\n",
              "adresse_code_voie                 137467\n",
              "code_postal                       143190\n",
              "code_commune                           0\n",
              "nom_commune                            0\n",
              "code_departement                       0\n",
              "ancien_code_commune             15189068\n",
              "ancien_nom_commune              15189068\n",
              "id_parcelle                            0\n",
              "ancien_id_parcelle              15433211\n",
              "numero_volume                   15486590\n",
              "lot1_numero                     10751698\n",
              "lot1_surface_carrez             14238532\n",
              "lot2_numero                     14519054\n",
              "lot2_surface_carrez             15211413\n",
              "lot3_numero                     15364574\n",
              "lot3_surface_carrez             15501252\n",
              "lot4_numero                     15474761\n",
              "lot4_surface_carrez             15524626\n",
              "lot5_numero                     15505311\n",
              "lot5_surface_carrez             15529266\n",
              "nombre_lots                            0\n",
              "code_type_local                  7085061\n",
              "type_local                       7085061\n",
              "surface_reelle_bati              9230585\n",
              "nombre_pieces_principales        7097986\n",
              "code_nature_culture              4843147\n",
              "nature_culture                   4843147\n",
              "code_nature_culture_speciale    14812296\n",
              "nature_culture_speciale         14812296\n",
              "surface_terrain                  4843434\n",
              "longitude                         468455\n",
              "latitude                          468455\n",
              "dtype: int64"
            ]
          },
          "metadata": {
            "tags": []
          },
          "execution_count": 37
        }
      ]
    },
    {
      "cell_type": "code",
      "metadata": {
        "id": "afcxhOtANpFe"
      },
      "source": [
        "#on enlève les duplicates d'adresse & valeur fonciere\n",
        "df=df.drop_duplicates(subset=['Adresse','valeur_fonciere'],keep=False)\n",
        "#preprocessing\n",
        "df['surface_terrain']=df['surface_terrain'].fillna(0)\n",
        "df['valeur_fonciere']=df['valeur_fonciere'].astype(int)\n",
        "df['Prix au m²(€)']=df['valeur_fonciere']/(df['surface_reelle_bati'])\n",
        "df['Prix au m²(€)']=df['Prix au m²(€)'].apply(lambda x: round(x))\n",
        "df=df[(df.longitude>-8)&(df.longitude<6)&(df.latitude<52)&(df.latitude>40)]\n",
        "df=df.reset_index(drop=True)\n",
        "df['latitude_r']=pd.DataFrame(np.deg2rad(df['latitude'].values))\n",
        "df['longitude_r']=pd.DataFrame(np.deg2rad(df['longitude'].values))\n",
        "df=df[df.latitude.notna()]\n",
        "df=df.sort_values(by = ['code_postal', 'latitude','longitude'])\n",
        "#df=df.drop(columns=['latitude','longitude'])\n",
        "df=df.reset_index(drop=True)"
      ],
      "execution_count": null,
      "outputs": []
    },
    {
      "cell_type": "code",
      "metadata": {
        "colab": {
          "base_uri": "https://localhost:8080/"
        },
        "id": "gyMRk0FPUQiU",
        "outputId": "84e2c73d-97c8-483e-d383-f65e51debefb"
      },
      "source": [
        "df.columns"
      ],
      "execution_count": null,
      "outputs": [
        {
          "output_type": "execute_result",
          "data": {
            "text/plain": [
              "Index(['id_mutation', 'date_mutation', 'numero_disposition', 'nature_mutation',\n",
              "       'valeur_fonciere', 'adresse_numero', 'adresse_suffixe',\n",
              "       'adresse_nom_voie', 'adresse_code_voie', 'code_postal', 'code_commune',\n",
              "       'nom_commune', 'code_departement', 'ancien_code_commune',\n",
              "       'ancien_nom_commune', 'id_parcelle', 'ancien_id_parcelle',\n",
              "       'numero_volume', 'lot1_numero', 'lot1_surface_carrez', 'lot2_numero',\n",
              "       'lot2_surface_carrez', 'lot3_numero', 'lot3_surface_carrez',\n",
              "       'lot4_numero', 'lot4_surface_carrez', 'lot5_numero',\n",
              "       'lot5_surface_carrez', 'nombre_lots', 'code_type_local', 'type_local',\n",
              "       'surface_reelle_bati', 'nombre_pieces_principales',\n",
              "       'code_nature_culture', 'nature_culture', 'code_nature_culture_speciale',\n",
              "       'nature_culture_speciale', 'surface_terrain', 'longitude', 'latitude',\n",
              "       'Adresse', 'Prix au m²(€)', 'latitude_r', 'longitude_r'],\n",
              "      dtype='object')"
            ]
          },
          "metadata": {
            "tags": []
          },
          "execution_count": 7
        }
      ]
    },
    {
      "cell_type": "code",
      "metadata": {
        "id": "-WdRwhHlUTlM"
      },
      "source": [
        "df = df[(df[\"type_local\"] != \"Dépendance\") & (df[\"type_local\"] != \"Local industriel. commercial ou assimilé\")]"
      ],
      "execution_count": null,
      "outputs": []
    },
    {
      "cell_type": "markdown",
      "metadata": {
        "id": "eDWL1-WqNZa3"
      },
      "source": [
        "PIVOT TABLE"
      ]
    },
    {
      "cell_type": "code",
      "metadata": {
        "id": "_MXiDLpQRqVJ",
        "colab": {
          "base_uri": "https://localhost:8080/",
          "height": 143
        },
        "outputId": "3213d6f1-95f1-4b0b-c6bf-4842e3933c1a"
      },
      "source": [
        "pd.pivot_table(df, values='valeur_fonciere', index=['type_local'],columns=['nature_mutation'], aggfunc=lambda x: len(x))"
      ],
      "execution_count": null,
      "outputs": [
        {
          "output_type": "execute_result",
          "data": {
            "text/html": [
              "<div>\n",
              "<style scoped>\n",
              "    .dataframe tbody tr th:only-of-type {\n",
              "        vertical-align: middle;\n",
              "    }\n",
              "\n",
              "    .dataframe tbody tr th {\n",
              "        vertical-align: top;\n",
              "    }\n",
              "\n",
              "    .dataframe thead th {\n",
              "        text-align: right;\n",
              "    }\n",
              "</style>\n",
              "<table border=\"1\" class=\"dataframe\">\n",
              "  <thead>\n",
              "    <tr style=\"text-align: right;\">\n",
              "      <th>nature_mutation</th>\n",
              "      <th>Vente</th>\n",
              "      <th>Vente en l'état futur d'achèvement</th>\n",
              "    </tr>\n",
              "    <tr>\n",
              "      <th>type_local</th>\n",
              "      <th></th>\n",
              "      <th></th>\n",
              "    </tr>\n",
              "  </thead>\n",
              "  <tbody>\n",
              "    <tr>\n",
              "      <th>Appartement</th>\n",
              "      <td>614466</td>\n",
              "      <td>106565</td>\n",
              "    </tr>\n",
              "    <tr>\n",
              "      <th>Maison</th>\n",
              "      <td>1649225</td>\n",
              "      <td>5092</td>\n",
              "    </tr>\n",
              "  </tbody>\n",
              "</table>\n",
              "</div>"
            ],
            "text/plain": [
              "nature_mutation    Vente  Vente en l'état futur d'achèvement\n",
              "type_local                                                  \n",
              "Appartement       614466                              106565\n",
              "Maison           1649225                                5092"
            ]
          },
          "metadata": {
            "tags": []
          },
          "execution_count": 7
        }
      ]
    },
    {
      "cell_type": "code",
      "metadata": {
        "id": "OulzwechMdo0"
      },
      "source": [
        "df_paris = df[(df['code_postal'] >= 75000) & (df['code_postal'] < 76000)]"
      ],
      "execution_count": null,
      "outputs": []
    },
    {
      "cell_type": "code",
      "metadata": {
        "colab": {
          "base_uri": "https://localhost:8080/"
        },
        "id": "isiVLskVOEHP",
        "outputId": "42e31a05-947c-4f5a-ea67-2e49869e54f5"
      },
      "source": [
        "set(df_paris.type_local.values)"
      ],
      "execution_count": null,
      "outputs": [
        {
          "output_type": "execute_result",
          "data": {
            "text/plain": [
              "{'Appartement', 'Maison'}"
            ]
          },
          "metadata": {
            "tags": []
          },
          "execution_count": 53
        }
      ]
    },
    {
      "cell_type": "code",
      "metadata": {
        "id": "h93vbHYQT1_z"
      },
      "source": [
        "df_nantes = df[(df['code_postal'] >= 44000) & (df['code_postal'] < 45000)]\n",
        "df_toulouse = df[(df['code_postal'] >= 31000) & (df['code_postal'] < 32000)]"
      ],
      "execution_count": null,
      "outputs": []
    },
    {
      "cell_type": "code",
      "metadata": {
        "colab": {
          "base_uri": "https://localhost:8080/"
        },
        "id": "2fyNOwV0Rz7Q",
        "outputId": "b092be4d-e72c-469a-b24c-8276cf0dd027"
      },
      "source": [
        "len(df_paris),len(df_nantes),len(df_toulouse)"
      ],
      "execution_count": null,
      "outputs": [
        {
          "output_type": "execute_result",
          "data": {
            "text/plain": [
              "(61113, 74372, 62244)"
            ]
          },
          "metadata": {
            "tags": []
          },
          "execution_count": 55
        }
      ]
    },
    {
      "cell_type": "markdown",
      "metadata": {
        "id": "1Zr7AOPMNSUZ"
      },
      "source": [
        "Definir les colonnes d'intérêts\n",
        "\n",
        "\n",
        "----------------------------------------------------\n",
        "\n",
        "Define interest columns"
      ]
    },
    {
      "cell_type": "code",
      "metadata": {
        "id": "Q3klWyw04E_z"
      },
      "source": [
        "columns_of_interest = [\"valeur_fonciere\", \"date_mutation\", \"nature_mutation\", \"code_postal\", \"latitude_r\",\n",
        "                      \"longitude_r\", \"type_local\", \"surface_reelle_bati\",\n",
        "                      \"surface_terrain\", \"Prix au m²(€)\", \"Adresse\", \"nombre_pieces_principales\", \"surface_terrain\"]"
      ],
      "execution_count": null,
      "outputs": []
    },
    {
      "cell_type": "code",
      "metadata": {
        "id": "IeZWqMcb4fuf"
      },
      "source": [
        "df_min_paris = pd.DataFrame(df_paris, columns=columns_of_interest)\n",
        "df_min_nantes = pd.DataFrame(df_nantes, columns=columns_of_interest)\n",
        "df_min_toulouse = pd.DataFrame(df_toulouse, columns=columns_of_interest)"
      ],
      "execution_count": null,
      "outputs": []
    },
    {
      "cell_type": "code",
      "metadata": {
        "colab": {
          "base_uri": "https://localhost:8080/"
        },
        "id": "SgXahCjtlaJO",
        "outputId": "3577ca07-163b-4fdd-f876-1ef7f1163433"
      },
      "source": [
        "df_min_paris.columns"
      ],
      "execution_count": null,
      "outputs": [
        {
          "output_type": "execute_result",
          "data": {
            "text/plain": [
              "Index(['valeur_fonciere', 'date_mutation', 'nature_mutation', 'code_postal',\n",
              "       'latitude_r', 'longitude_r', 'type_local', 'surface_reelle_bati',\n",
              "       'surface_terrain', 'Prix au m²(€)', 'Adresse',\n",
              "       'nombre_pieces_principales', 'surface_terrain'],\n",
              "      dtype='object')"
            ]
          },
          "metadata": {
            "tags": []
          },
          "execution_count": 133
        }
      ]
    },
    {
      "cell_type": "code",
      "metadata": {
        "colab": {
          "base_uri": "https://localhost:8080/"
        },
        "id": "BKkzqNFckj2R",
        "outputId": "6a08b3b9-14d0-4e99-99d1-eaac05ee30d0"
      },
      "source": [
        "df_min_paris.isna().sum()"
      ],
      "execution_count": null,
      "outputs": [
        {
          "output_type": "execute_result",
          "data": {
            "text/plain": [
              "valeur_fonciere              0\n",
              "date_mutation                0\n",
              "nature_mutation              0\n",
              "code_postal                  0\n",
              "latitude_r                   0\n",
              "longitude_r                  0\n",
              "type_local                   0\n",
              "surface_reelle_bati          0\n",
              "surface_terrain              0\n",
              "Prix au m²(€)                0\n",
              "Adresse                      0\n",
              "nombre_pieces_principales    0\n",
              "surface_terrain              0\n",
              "dtype: int64"
            ]
          },
          "metadata": {
            "tags": []
          },
          "execution_count": 12
        }
      ]
    },
    {
      "cell_type": "code",
      "metadata": {
        "colab": {
          "base_uri": "https://localhost:8080/"
        },
        "id": "TDC_qUqtL6s6",
        "outputId": "221a62b4-a087-44ce-b452-dfa429f9cf4a"
      },
      "source": [
        "df_min_nantes.isna().sum()"
      ],
      "execution_count": null,
      "outputs": [
        {
          "output_type": "execute_result",
          "data": {
            "text/plain": [
              "valeur_fonciere              0\n",
              "date_mutation                0\n",
              "nature_mutation              0\n",
              "code_postal                  0\n",
              "latitude_r                   0\n",
              "longitude_r                  0\n",
              "type_local                   0\n",
              "surface_reelle_bati          0\n",
              "surface_terrain              0\n",
              "Prix au m²(€)                0\n",
              "Adresse                      0\n",
              "nombre_pieces_principales    0\n",
              "surface_terrain              0\n",
              "dtype: int64"
            ]
          },
          "metadata": {
            "tags": []
          },
          "execution_count": 13
        }
      ]
    },
    {
      "cell_type": "code",
      "metadata": {
        "colab": {
          "base_uri": "https://localhost:8080/"
        },
        "id": "2qZgu5uwMEcU",
        "outputId": "70de8c60-a56e-464f-ec53-3c580b36e627"
      },
      "source": [
        "df_min_toulouse.isna().sum()"
      ],
      "execution_count": null,
      "outputs": [
        {
          "output_type": "execute_result",
          "data": {
            "text/plain": [
              "valeur_fonciere              0\n",
              "date_mutation                0\n",
              "nature_mutation              0\n",
              "code_postal                  0\n",
              "latitude_r                   0\n",
              "longitude_r                  0\n",
              "type_local                   0\n",
              "surface_reelle_bati          0\n",
              "surface_terrain              0\n",
              "Prix au m²(€)                0\n",
              "Adresse                      0\n",
              "nombre_pieces_principales    0\n",
              "surface_terrain              0\n",
              "dtype: int64"
            ]
          },
          "metadata": {
            "tags": []
          },
          "execution_count": 14
        }
      ]
    },
    {
      "cell_type": "code",
      "metadata": {
        "id": "CQ-w5hf5YOM_"
      },
      "source": [
        "#df.to_csv('all_data.csv', index=False)\n",
        "#save file\n",
        "#df_min_paris.to_csv('df_paris.csv', index=False)\n",
        "#df_min_nantes.to_csv('df_nantes.csv', index=False)\n",
        "#df_min_toulouse.to_csv('df_toulouse.csv', index=False)"
      ],
      "execution_count": null,
      "outputs": []
    },
    {
      "cell_type": "code",
      "metadata": {
        "colab": {
          "base_uri": "https://localhost:8080/"
        },
        "id": "--TPvxBggam7",
        "outputId": "c646b9a7-e02b-4781-917a-785d94237d2e"
      },
      "source": [
        "set(df_min_paris.type_local.values)"
      ],
      "execution_count": null,
      "outputs": [
        {
          "output_type": "execute_result",
          "data": {
            "text/plain": [
              "{'Appartement', 'Maison'}"
            ]
          },
          "metadata": {
            "tags": []
          },
          "execution_count": 62
        }
      ]
    },
    {
      "cell_type": "markdown",
      "metadata": {
        "id": "2bWHpQ37cPIf"
      },
      "source": [
        "\n",
        "\n",
        "Visualisations sur python\n",
        "\n",
        "-----------------------------------------------------------------\n",
        "\n",
        "Visualizations on python"
      ]
    },
    {
      "cell_type": "code",
      "metadata": {
        "id": "IIBIbseXazQh"
      },
      "source": [
        "df_min_paris = df_min_paris[df_min_paris[\"nombre_pieces_principales\"] != 0]\n",
        "df_min_nantes = df_min_nantes[df_min_nantes[\"nombre_pieces_principales\"] != 0]\n",
        "df_min_toulouse = df_min_toulouse[df_min_toulouse[\"nombre_pieces_principales\"] != 0]"
      ],
      "execution_count": null,
      "outputs": []
    },
    {
      "cell_type": "code",
      "metadata": {
        "colab": {
          "base_uri": "https://localhost:8080/",
          "height": 310
        },
        "id": "1QvFPmt-avz3",
        "outputId": "ddfc83cb-179e-483b-ac48-a39821f57f22"
      },
      "source": [
        "df_min_paris.groupby(\"nombre_pieces_principales\")['type_local'].count().plot(kind='bar')"
      ],
      "execution_count": null,
      "outputs": [
        {
          "output_type": "execute_result",
          "data": {
            "text/plain": [
              "<matplotlib.axes._subplots.AxesSubplot at 0x7f06fa161150>"
            ]
          },
          "metadata": {
            "tags": []
          },
          "execution_count": 162
        },
        {
          "output_type": "display_data",
          "data": {
            "image/png": "[encoded data removed]",
            "text/plain": [
              "<Figure size 432x288 with 1 Axes>"
            ]
          },
          "metadata": {
            "tags": [],
            "needs_background": "light"
          }
        }
      ]
    },
    {
      "cell_type": "code",
      "metadata": {
        "colab": {
          "base_uri": "https://localhost:8080/",
          "height": 312
        },
        "id": "Nlea9rFscSDC",
        "outputId": "e308197a-c5f1-4888-85df-c8fda8f9070f"
      },
      "source": [
        "df_min_nantes.groupby(\"nombre_pieces_principales\")['type_local'].count().plot(kind='bar')"
      ],
      "execution_count": null,
      "outputs": [
        {
          "output_type": "execute_result",
          "data": {
            "text/plain": [
              "<matplotlib.axes._subplots.AxesSubplot at 0x7f06fa21e0d0>"
            ]
          },
          "metadata": {
            "tags": []
          },
          "execution_count": 163
        },
        {
          "output_type": "display_data",
          "data": {
            "image/png": "[encoded data removed]",
            "text/plain": [
              "<Figure size 432x288 with 1 Axes>"
            ]
          },
          "metadata": {
            "tags": [],
            "needs_background": "light"
          }
        }
      ]
    },
    {
      "cell_type": "code",
      "metadata": {
        "colab": {
          "base_uri": "https://localhost:8080/",
          "height": 310
        },
        "id": "spxLX39Zcnel",
        "outputId": "2282fc22-f7ab-4f90-ca1e-e34e1ae2004f"
      },
      "source": [
        "df_min_toulouse.groupby(\"nombre_pieces_principales\")['type_local'].count().plot(kind='bar')"
      ],
      "execution_count": null,
      "outputs": [
        {
          "output_type": "execute_result",
          "data": {
            "text/plain": [
              "<matplotlib.axes._subplots.AxesSubplot at 0x7f06fa20f510>"
            ]
          },
          "metadata": {
            "tags": []
          },
          "execution_count": 164
        },
        {
          "output_type": "display_data",
          "data": {
            "image/png": "[encoded data removed]",
            "text/plain": [
              "<Figure size 432x288 with 1 Axes>"
            ]
          },
          "metadata": {
            "tags": [],
            "needs_background": "light"
          }
        }
      ]
    },
    {
      "cell_type": "markdown",
      "metadata": {
        "id": "pfHJSW1PYUlP"
      },
      "source": [
        "Traitement de valeurs aberrantes : Paris\n",
        "\n",
        "\n",
        "--------------------------------------------------------------------------\n",
        "\n",
        "\n",
        "Treatment of outliers: Paris"
      ]
    },
    {
      "cell_type": "code",
      "metadata": {
        "id": "j3MTPKI1iIZe"
      },
      "source": [
        "def borne(df):\n",
        "  list_columns= [\"valeur_fonciere\", \"Prix au m²(€)\"]\n",
        "\n",
        "  for elem in list_columns:\n",
        "    q1=df[elem].quantile(q=0.25)\n",
        "    #On calcule Q3\n",
        "    q3=df[elem].quantile(q=0.75)\n",
        "    #On calcule l'écart interquartile (IQR)\n",
        "    IQR=q3-q1\n",
        "    #On calcule la borne inférieure à l'aide du Q1 et de l'écart interquartile\n",
        "    borne_inf = q1-1.5*IQR\n",
        "    #On calcule la borne supérieure à l'aide du Q3 et de l'écart interquartile\n",
        "    borne_sup = q3 +1.5*IQR\n",
        "    df = df[df[elem] < borne_sup]\n",
        "    df = df[df[elem]>borne_inf]\n",
        "  \n",
        "  return df"
      ],
      "execution_count": null,
      "outputs": []
    },
    {
      "cell_type": "code",
      "metadata": {
        "id": "3lg5Nfq9iZx5"
      },
      "source": [
        "df_min_paris = borne(df_min_paris)"
      ],
      "execution_count": null,
      "outputs": []
    },
    {
      "cell_type": "code",
      "metadata": {
        "colab": {
          "base_uri": "https://localhost:8080/",
          "height": 355
        },
        "id": "oTXSt2JHSs4I",
        "outputId": "b57a1886-8fff-4047-c9bb-48f65def8f6b"
      },
      "source": [
        "import seaborn as sns \n",
        "\n",
        "sns.boxplot(df_min_paris['valeur_fonciere'])"
      ],
      "execution_count": null,
      "outputs": [
        {
          "output_type": "stream",
          "text": [
            "/usr/local/lib/python3.7/dist-packages/seaborn/_decorators.py:43: FutureWarning: Pass the following variable as a keyword arg: x. From version 0.12, the only valid positional argument will be `data`, and passing other arguments without an explicit keyword will result in an error or misinterpretation.\n",
            "  FutureWarning\n"
          ],
          "name": "stderr"
        },
        {
          "output_type": "execute_result",
          "data": {
            "text/plain": [
              "<matplotlib.axes._subplots.AxesSubplot at 0x7f06faba4e50>"
            ]
          },
          "metadata": {
            "tags": []
          },
          "execution_count": 362
        },
        {
          "output_type": "display_data",
          "data": {
            "image/png": "[encoded data removed]",
            "text/plain": [
              "<Figure size 432x288 with 1 Axes>"
            ]
          },
          "metadata": {
            "tags": [],
            "needs_background": "light"
          }
        }
      ]
    },
    {
      "cell_type": "code",
      "metadata": {
        "colab": {
          "base_uri": "https://localhost:8080/",
          "height": 354
        },
        "id": "5gLRd_TqeRv8",
        "outputId": "ba733279-ebd7-49dc-94a4-cbecfef36a97"
      },
      "source": [
        "sns.boxplot(df_min_paris['Prix au m²(€)'])"
      ],
      "execution_count": null,
      "outputs": [
        {
          "output_type": "stream",
          "text": [
            "/usr/local/lib/python3.7/dist-packages/seaborn/_decorators.py:43: FutureWarning: Pass the following variable as a keyword arg: x. From version 0.12, the only valid positional argument will be `data`, and passing other arguments without an explicit keyword will result in an error or misinterpretation.\n",
            "  FutureWarning\n"
          ],
          "name": "stderr"
        },
        {
          "output_type": "execute_result",
          "data": {
            "text/plain": [
              "<matplotlib.axes._subplots.AxesSubplot at 0x7f06fabed2d0>"
            ]
          },
          "metadata": {
            "tags": []
          },
          "execution_count": 363
        },
        {
          "output_type": "display_data",
          "data": {
            "image/png": "[encoded data removed]",
            "text/plain": [
              "<Figure size 432x288 with 1 Axes>"
            ]
          },
          "metadata": {
            "tags": [],
            "needs_background": "light"
          }
        }
      ]
    },
    {
      "cell_type": "code",
      "metadata": {
        "id": "LSsysG26Y0Op"
      },
      "source": [
        "#Paris \n",
        "\n",
        "df_min_paris= df_min_paris[(df_min_paris['valeur_fonciere']>0) & (df_min_paris['valeur_fonciere'] < 700500) & (df_min_paris['Prix au m²(€)']>3200) & (df_min_paris['Prix au m²(€)']<14500)]\n"
      ],
      "execution_count": null,
      "outputs": []
    },
    {
      "cell_type": "markdown",
      "metadata": {
        "id": "rmKcMVoDhCQy"
      },
      "source": [
        "Valeurs abérrantes Nantes"
      ]
    },
    {
      "cell_type": "code",
      "metadata": {
        "id": "O5RMGCTQl3_K"
      },
      "source": [
        "df_min_nantes = borne(df_min_nantes)"
      ],
      "execution_count": null,
      "outputs": []
    },
    {
      "cell_type": "code",
      "metadata": {
        "colab": {
          "base_uri": "https://localhost:8080/",
          "height": 355
        },
        "id": "sjK3JuAAltzj",
        "outputId": "92222d93-90d0-49a9-c817-abeb880a0941"
      },
      "source": [
        "sns.boxplot(df_min_nantes['valeur_fonciere'])"
      ],
      "execution_count": null,
      "outputs": [
        {
          "output_type": "stream",
          "text": [
            "/usr/local/lib/python3.7/dist-packages/seaborn/_decorators.py:43: FutureWarning: Pass the following variable as a keyword arg: x. From version 0.12, the only valid positional argument will be `data`, and passing other arguments without an explicit keyword will result in an error or misinterpretation.\n",
            "  FutureWarning\n"
          ],
          "name": "stderr"
        },
        {
          "output_type": "execute_result",
          "data": {
            "text/plain": [
              "<matplotlib.axes._subplots.AxesSubplot at 0x7f06fac3f610>"
            ]
          },
          "metadata": {
            "tags": []
          },
          "execution_count": 366
        },
        {
          "output_type": "display_data",
          "data": {
            "image/png": "[encoded data removed]",
            "text/plain": [
              "<Figure size 432x288 with 1 Axes>"
            ]
          },
          "metadata": {
            "tags": [],
            "needs_background": "light"
          }
        }
      ]
    },
    {
      "cell_type": "code",
      "metadata": {
        "colab": {
          "base_uri": "https://localhost:8080/",
          "height": 354
        },
        "id": "jcDKASyelv6Q",
        "outputId": "93ed0f16-b830-422b-ce5a-981822c60d0c"
      },
      "source": [
        "sns.boxplot(df_min_nantes['Prix au m²(€)'])"
      ],
      "execution_count": null,
      "outputs": [
        {
          "output_type": "stream",
          "text": [
            "/usr/local/lib/python3.7/dist-packages/seaborn/_decorators.py:43: FutureWarning: Pass the following variable as a keyword arg: x. From version 0.12, the only valid positional argument will be `data`, and passing other arguments without an explicit keyword will result in an error or misinterpretation.\n",
            "  FutureWarning\n"
          ],
          "name": "stderr"
        },
        {
          "output_type": "execute_result",
          "data": {
            "text/plain": [
              "<matplotlib.axes._subplots.AxesSubplot at 0x7f06fac0f090>"
            ]
          },
          "metadata": {
            "tags": []
          },
          "execution_count": 367
        },
        {
          "output_type": "display_data",
          "data": {
            "image/png": "[encoded data removed]",
            "text/plain": [
              "<Figure size 432x288 with 1 Axes>"
            ]
          },
          "metadata": {
            "tags": [],
            "needs_background": "light"
          }
        }
      ]
    },
    {
      "cell_type": "code",
      "metadata": {
        "id": "Ju-rt2tal8rj"
      },
      "source": [
        "df_min_nantes= df_min_nantes[(df_min_nantes['valeur_fonciere']>0) & (df_min_nantes['valeur_fonciere'] < 400500) & (df_min_nantes['Prix au m²(€)']>0) & (df_min_nantes['Prix au m²(€)']<4900)]"
      ],
      "execution_count": null,
      "outputs": []
    },
    {
      "cell_type": "code",
      "metadata": {
        "colab": {
          "base_uri": "https://localhost:8080/"
        },
        "id": "QuSh0JXGmCpu",
        "outputId": "687cc587-7e01-4c30-9860-a28f94a6d6ae"
      },
      "source": [
        "len(df_min_nantes)"
      ],
      "execution_count": null,
      "outputs": [
        {
          "output_type": "execute_result",
          "data": {
            "text/plain": [
              "66939"
            ]
          },
          "metadata": {
            "tags": []
          },
          "execution_count": 191
        }
      ]
    },
    {
      "cell_type": "markdown",
      "metadata": {
        "id": "yDkQiGw3m7Cq"
      },
      "source": [
        "Valurs abérrantes : Toulouse"
      ]
    },
    {
      "cell_type": "code",
      "metadata": {
        "id": "sx0mocIlm-bk"
      },
      "source": [
        "df_min_toulouse = borne(df_min_toulouse)"
      ],
      "execution_count": null,
      "outputs": []
    },
    {
      "cell_type": "code",
      "metadata": {
        "colab": {
          "base_uri": "https://localhost:8080/",
          "height": 355
        },
        "id": "fJnPtCgDnIE6",
        "outputId": "185a49e9-f097-47d7-b965-7bad889b67a2"
      },
      "source": [
        "sns.boxplot(df_min_toulouse['valeur_fonciere'])"
      ],
      "execution_count": null,
      "outputs": [
        {
          "output_type": "stream",
          "text": [
            "/usr/local/lib/python3.7/dist-packages/seaborn/_decorators.py:43: FutureWarning: Pass the following variable as a keyword arg: x. From version 0.12, the only valid positional argument will be `data`, and passing other arguments without an explicit keyword will result in an error or misinterpretation.\n",
            "  FutureWarning\n"
          ],
          "name": "stderr"
        },
        {
          "output_type": "execute_result",
          "data": {
            "text/plain": [
              "<matplotlib.axes._subplots.AxesSubplot at 0x7f06fac6ddd0>"
            ]
          },
          "metadata": {
            "tags": []
          },
          "execution_count": 370
        },
        {
          "output_type": "display_data",
          "data": {
            "image/png": "[encoded data removed]",
            "text/plain": [
              "<Figure size 432x288 with 1 Axes>"
            ]
          },
          "metadata": {
            "tags": [],
            "needs_background": "light"
          }
        }
      ]
    },
    {
      "cell_type": "code",
      "metadata": {
        "colab": {
          "base_uri": "https://localhost:8080/",
          "height": 354
        },
        "id": "s_lkBzpPmCs3",
        "outputId": "ebb87fea-cf89-4309-e7aa-7bc36b23cbc2"
      },
      "source": [
        "sns.boxplot(df_min_toulouse['Prix au m²(€)'])"
      ],
      "execution_count": null,
      "outputs": [
        {
          "output_type": "stream",
          "text": [
            "/usr/local/lib/python3.7/dist-packages/seaborn/_decorators.py:43: FutureWarning: Pass the following variable as a keyword arg: x. From version 0.12, the only valid positional argument will be `data`, and passing other arguments without an explicit keyword will result in an error or misinterpretation.\n",
            "  FutureWarning\n"
          ],
          "name": "stderr"
        },
        {
          "output_type": "execute_result",
          "data": {
            "text/plain": [
              "<matplotlib.axes._subplots.AxesSubplot at 0x7f06fabbb390>"
            ]
          },
          "metadata": {
            "tags": []
          },
          "execution_count": 371
        },
        {
          "output_type": "display_data",
          "data": {
            "image/png": "[encoded data removed]",
            "text/plain": [
              "<Figure size 432x288 with 1 Axes>"
            ]
          },
          "metadata": {
            "tags": [],
            "needs_background": "light"
          }
        }
      ]
    },
    {
      "cell_type": "code",
      "metadata": {
        "id": "62vpnuOlnLdy"
      },
      "source": [
        "df_min_toulouse= df_min_toulouse[(df_min_toulouse['valeur_fonciere']>0) & (df_min_toulouse['valeur_fonciere'] < 400500) & (df_min_toulouse['Prix au m²(€)']>250) & (df_min_toulouse['Prix au m²(€)']<4700)]"
      ],
      "execution_count": null,
      "outputs": []
    },
    {
      "cell_type": "code",
      "metadata": {
        "colab": {
          "base_uri": "https://localhost:8080/"
        },
        "id": "ZSrLBKiQnLg3",
        "outputId": "69ba6352-598d-40f0-bf1f-1a117397cd01"
      },
      "source": [
        "len(df_min_toulouse)"
      ],
      "execution_count": null,
      "outputs": [
        {
          "output_type": "execute_result",
          "data": {
            "text/plain": [
              "56112"
            ]
          },
          "metadata": {
            "tags": []
          },
          "execution_count": 261
        }
      ]
    },
    {
      "cell_type": "markdown",
      "metadata": {
        "id": "5RT-d3_p6fJw"
      },
      "source": [
        "Filtre pour améliorer le model"
      ]
    },
    {
      "cell_type": "code",
      "metadata": {
        "id": "K3RSge_tZHpe",
        "colab": {
          "base_uri": "https://localhost:8080/"
        },
        "outputId": "b44a5bd5-21da-488f-e225-19f864c393bf"
      },
      "source": [
        "#Paris\n",
        "\n",
        "#Ici on fait un filtre sur les donnnées pour rendre le modèle plus pertinent (supression des valeurs extrêmes etc)\n",
        "##appart_old_paris=df_min_paris[(df_min_paris['type_local']=='Appartement') & (df_min_paris['nature_mutation']=='Vente')]\n",
        "#appart_old_paris.reset_index(drop=True,inplace=True)\n",
        "#maison_old_paris=df_min_paris[(df['type_local']=='Maison') & (df_min_paris['nature_mutation']=='Vente')]\n",
        "#maison_old_paris=maison_old_paris[(maison_old_paris['valeur_fonciere']>20000)&(maison_old_paris['Prix au m²(€)']>100)&(maison_old_paris['surface_reelle_bati']>9)]\n",
        "#maison_old_paris.reset_index(drop=True,inplace=True)\n",
        "#local_old_paris =df_min_paris[(df_min_paris['type_local']=='Local industriel. commercial ou assimilé') & (df_min_paris['nature_mutation']=='Vente')]\n",
        "#local_old_paris.reset_index(drop=True,inplace=True)\n",
        "#appart_new_paris=df_min_paris[(df_min_paris['type_local']=='Appartement') & (df_min_paris['nature_mutation']=='Vente en l\\'état futur d\\'achèvement')]\n",
        "#appart_new_paris.reset_index(drop=True,inplace=True)\n",
        "\n",
        "\n"
      ],
      "execution_count": null,
      "outputs": [
        {
          "output_type": "stream",
          "text": [
            "/usr/local/lib/python3.7/dist-packages/ipykernel_launcher.py:6: UserWarning: Boolean Series key will be reindexed to match DataFrame index.\n",
            "  \n"
          ],
          "name": "stderr"
        }
      ]
    },
    {
      "cell_type": "code",
      "metadata": {
        "colab": {
          "base_uri": "https://localhost:8080/"
        },
        "id": "2aF-Smow5oW8",
        "outputId": "676653ef-e146-4a35-ffa2-d2c6f378dbf2"
      },
      "source": [
        "df_min_paris.columns"
      ],
      "execution_count": null,
      "outputs": [
        {
          "output_type": "execute_result",
          "data": {
            "text/plain": [
              "Index(['valeur_fonciere', 'date_mutation', 'nature_mutation', 'code_postal',\n",
              "       'latitude_r', 'longitude_r', 'type_local', 'surface_reelle_bati',\n",
              "       'surface_terrain', 'Prix au m²(€)', 'Adresse',\n",
              "       'nombre_pieces_principales', 'surface_terrain', 'label_nature_mutation',\n",
              "       'label_type_local', 'Distance moyenne', 'Indices voisins'],\n",
              "      dtype='object')"
            ]
          },
          "metadata": {
            "tags": []
          },
          "execution_count": 331
        }
      ]
    },
    {
      "cell_type": "code",
      "metadata": {
        "id": "o_ha9kbE6rpV"
      },
      "source": [
        "df_test = df_min_paris"
      ],
      "execution_count": null,
      "outputs": []
    },
    {
      "cell_type": "code",
      "metadata": {
        "colab": {
          "base_uri": "https://localhost:8080/"
        },
        "id": "euNjl-575t_0",
        "outputId": "a99cd64f-074d-4aef-dd15-ef959a2a33ed"
      },
      "source": [
        "df_min_paris.type_local.value_counts()"
      ],
      "execution_count": null,
      "outputs": [
        {
          "output_type": "execute_result",
          "data": {
            "text/plain": [
              "Appartement    45576\n",
              "Name: type_local, dtype: int64"
            ]
          },
          "metadata": {
            "tags": []
          },
          "execution_count": 345
        }
      ]
    },
    {
      "cell_type": "code",
      "metadata": {
        "colab": {
          "base_uri": "https://localhost:8080/"
        },
        "id": "tCQ-8Ig_6pZ2",
        "outputId": "450fbb94-dd63-4f84-8a5e-94988eab49b6"
      },
      "source": [
        "df_min_paris.columns\n"
      ],
      "execution_count": null,
      "outputs": [
        {
          "output_type": "execute_result",
          "data": {
            "text/plain": [
              "Index(['valeur_fonciere', 'date_mutation', 'nature_mutation', 'code_postal',\n",
              "       'latitude_r', 'longitude_r', 'type_local', 'surface_reelle_bati',\n",
              "       'surface_terrain', 'Prix au m²(€)', 'Adresse',\n",
              "       'nombre_pieces_principales', 'surface_terrain', 'Distance moyenne',\n",
              "       'Indices voisins'],\n",
              "      dtype='object')"
            ]
          },
          "metadata": {
            "tags": []
          },
          "execution_count": 351
        }
      ]
    },
    {
      "cell_type": "code",
      "metadata": {
        "id": "ed3yFlIB6jlG"
      },
      "source": [
        "df_min_paris = df_min_paris.drop(columns=[\"label_nature_mutation\", \"label_type_local\"])"
      ],
      "execution_count": null,
      "outputs": []
    },
    {
      "cell_type": "markdown",
      "metadata": {
        "id": "tOfARwVLrVCj"
      },
      "source": [
        "Data Processing : Encodage binaire \n",
        "\n",
        "\n",
        "---------------------------------------------------------------------\n",
        "\n",
        "Data Processing: Binary encoding"
      ]
    },
    {
      "cell_type": "code",
      "metadata": {
        "id": "YMU3hFwNwyBv"
      },
      "source": [
        "from sklearn import preprocessing\n",
        "le = preprocessing.LabelEncoder()\n",
        "\n",
        "def preprocessing_label(df_label):\n",
        "  df_label['label_nature_mutation'] = le.fit_transform(df_label[\"nature_mutation\"])\n",
        "  df_label['label_type_local'] = le.fit_transform(df_label[\"type_local\"])\n",
        "  return df_label"
      ],
      "execution_count": null,
      "outputs": []
    },
    {
      "cell_type": "code",
      "metadata": {
        "id": "MG_Pdb5e0G9s"
      },
      "source": [
        "df_min_paris = preprocessing_label(df_min_paris)"
      ],
      "execution_count": null,
      "outputs": []
    },
    {
      "cell_type": "code",
      "metadata": {
        "id": "s_uegQwp9FJX"
      },
      "source": [
        "df_min_nantes = preprocessing_label(df_min_nantes)"
      ],
      "execution_count": null,
      "outputs": []
    },
    {
      "cell_type": "code",
      "metadata": {
        "id": "gFNwrD0H9ZHf"
      },
      "source": [
        "df_min_toulouse = preprocessing_label(df_min_toulouse)"
      ],
      "execution_count": null,
      "outputs": []
    },
    {
      "cell_type": "markdown",
      "metadata": {
        "id": "1x7N6YB4rhXx"
      },
      "source": [
        "Améliorer le modèle machine learning\n",
        "\n",
        "------------------------------------------------------\n",
        "\n",
        "Improve the machine learning model"
      ]
    },
    {
      "cell_type": "code",
      "metadata": {
        "id": "5Xt4vFO6gI1h"
      },
      "source": [
        "from sklearn.neighbors import BallTree\n",
        "df_min_paris[\"Distance moyenne\"]=np.zeros(len(df_min_paris))\n",
        "df_min_paris[\"Indices voisins\"]=np.zeros(len(df_min_paris))\n",
        "models={}\n",
        "regions=df_min_paris.code_postal.unique()\n",
        "for k in range(len(regions)):\n",
        "    name= \"appart\" + str(regions[k])\n",
        "    data=df_min_paris[df_min_paris.code_postal==regions[k]]\n",
        "    data=data.reset_index(drop=True)\n",
        "    models[k]=BallTree(data[[\"latitude_r\", \"longitude_r\"]].values, leaf_size=2, metric=\"haversine\")"
      ],
      "execution_count": null,
      "outputs": []
    },
    {
      "cell_type": "code",
      "metadata": {
        "id": "3-z17PdvjnJj"
      },
      "source": [
        "for k in range(len(regions)):\n",
        "    data=df_min_paris[df_min_paris.code_postal==regions[k]]\n",
        "    data=data.reset_index(drop=True)\n",
        "    dist, indices = models[k].query(data[[\"latitude_r\",\"longitude_r\"]].values,k=10)\n",
        "    data[\"Distance moyenne\"]=np.mean(dist[:,1:]*6341,1)\n",
        "    a=pd.DataFrame()\n",
        "    a[\"Prix au m²(€\"]=np.zeros(len(data))\n",
        "for i in range(1,10):\n",
        "    a+=pd.DataFrame(data.iloc[indices[:,i],:][\"Prix au m²(€)\"]).reset_index(drop=True)\n",
        "    a=a/10\n",
        "    data[\"Prix moyen du quartier\"]=a.values\n",
        "    "
      ],
      "execution_count": null,
      "outputs": []
    },
    {
      "cell_type": "code",
      "metadata": {
        "colab": {
          "base_uri": "https://localhost:8080/",
          "height": 608
        },
        "id": "ftrNUDd9mTyn",
        "outputId": "f36d0284-9f5f-4f0f-e537-b5e26865f948"
      },
      "source": [
        "df_min_paris.head(5)"
      ],
      "execution_count": null,
      "outputs": [
        {
          "output_type": "execute_result",
          "data": {
            "text/html": [
              "<div>\n",
              "<style scoped>\n",
              "    .dataframe tbody tr th:only-of-type {\n",
              "        vertical-align: middle;\n",
              "    }\n",
              "\n",
              "    .dataframe tbody tr th {\n",
              "        vertical-align: top;\n",
              "    }\n",
              "\n",
              "    .dataframe thead th {\n",
              "        text-align: right;\n",
              "    }\n",
              "</style>\n",
              "<table border=\"1\" class=\"dataframe\">\n",
              "  <thead>\n",
              "    <tr style=\"text-align: right;\">\n",
              "      <th></th>\n",
              "      <th>valeur_fonciere</th>\n",
              "      <th>date_mutation</th>\n",
              "      <th>nature_mutation</th>\n",
              "      <th>code_postal</th>\n",
              "      <th>latitude_r</th>\n",
              "      <th>longitude_r</th>\n",
              "      <th>type_local</th>\n",
              "      <th>surface_reelle_bati</th>\n",
              "      <th>surface_terrain</th>\n",
              "      <th>Prix au m²(€)</th>\n",
              "      <th>Adresse</th>\n",
              "      <th>latitude</th>\n",
              "      <th>longitude</th>\n",
              "    </tr>\n",
              "  </thead>\n",
              "  <tbody>\n",
              "    <tr>\n",
              "      <th>1798081</th>\n",
              "      <td>6000000</td>\n",
              "      <td>2016-05-19</td>\n",
              "      <td>Vente</td>\n",
              "      <td>75001</td>\n",
              "      <td>0.852699</td>\n",
              "      <td>0.040885</td>\n",
              "      <td>Appartement</td>\n",
              "      <td>225.0</td>\n",
              "      <td>0.0</td>\n",
              "      <td>26667</td>\n",
              "      <td>6920   QUAI DES ORFEVRES Paris 1er Arrondissem...</td>\n",
              "      <td>48.856026</td>\n",
              "      <td>2.342515</td>\n",
              "    </tr>\n",
              "    <tr>\n",
              "      <th>1798082</th>\n",
              "      <td>420000</td>\n",
              "      <td>2018-06-29</td>\n",
              "      <td>Vente</td>\n",
              "      <td>75001</td>\n",
              "      <td>0.852702</td>\n",
              "      <td>0.040880</td>\n",
              "      <td>Appartement</td>\n",
              "      <td>26.0</td>\n",
              "      <td>0.0</td>\n",
              "      <td>16154</td>\n",
              "      <td>6920   QUAI DES ORFEVRES Paris 1er Arrondissem...</td>\n",
              "      <td>48.856215</td>\n",
              "      <td>2.342274</td>\n",
              "    </tr>\n",
              "    <tr>\n",
              "      <th>1798083</th>\n",
              "      <td>930000</td>\n",
              "      <td>2018-12-10</td>\n",
              "      <td>Vente</td>\n",
              "      <td>75001</td>\n",
              "      <td>0.852704</td>\n",
              "      <td>0.040876</td>\n",
              "      <td>Appartement</td>\n",
              "      <td>5.0</td>\n",
              "      <td>0.0</td>\n",
              "      <td>186000</td>\n",
              "      <td>6920   QUAI DES ORFEVRES Paris 1er Arrondissem...</td>\n",
              "      <td>48.856363</td>\n",
              "      <td>2.342048</td>\n",
              "    </tr>\n",
              "    <tr>\n",
              "      <th>1798084</th>\n",
              "      <td>630000</td>\n",
              "      <td>2017-04-03</td>\n",
              "      <td>Vente</td>\n",
              "      <td>75001</td>\n",
              "      <td>0.852705</td>\n",
              "      <td>0.040878</td>\n",
              "      <td>Appartement</td>\n",
              "      <td>51.0</td>\n",
              "      <td>0.0</td>\n",
              "      <td>12353</td>\n",
              "      <td>2594   PL DAUPHINE Paris 1er Arrondissement 75...</td>\n",
              "      <td>48.856426</td>\n",
              "      <td>2.342125</td>\n",
              "    </tr>\n",
              "    <tr>\n",
              "      <th>1798085</th>\n",
              "      <td>398000</td>\n",
              "      <td>2018-12-19</td>\n",
              "      <td>Vente</td>\n",
              "      <td>75001</td>\n",
              "      <td>0.852705</td>\n",
              "      <td>0.040878</td>\n",
              "      <td>Appartement</td>\n",
              "      <td>21.0</td>\n",
              "      <td>0.0</td>\n",
              "      <td>18952</td>\n",
              "      <td>2594   PL DAUPHINE Paris 1er Arrondissement 75...</td>\n",
              "      <td>48.856426</td>\n",
              "      <td>2.342125</td>\n",
              "    </tr>\n",
              "  </tbody>\n",
              "</table>\n",
              "</div>"
            ],
            "text/plain": [
              "         valeur_fonciere date_mutation  ...   latitude  longitude\n",
              "1798081          6000000    2016-05-19  ...  48.856026   2.342515\n",
              "1798082           420000    2018-06-29  ...  48.856215   2.342274\n",
              "1798083           930000    2018-12-10  ...  48.856363   2.342048\n",
              "1798084           630000    2017-04-03  ...  48.856426   2.342125\n",
              "1798085           398000    2018-12-19  ...  48.856426   2.342125\n",
              "\n",
              "[5 rows x 13 columns]"
            ]
          },
          "metadata": {
            "tags": []
          },
          "execution_count": 21
        }
      ]
    },
    {
      "cell_type": "markdown",
      "metadata": {
        "id": "zpd9xOYTcuKi"
      },
      "source": [
        "Prédiction du prix au mètre carré de la ville de Toulouse : 2020\n",
        "\n",
        "\n",
        "-------------------------------------------------------------------------------\n",
        "\n",
        "Toulouse city price per square meter prediction: 2020\n"
      ]
    },
    {
      "cell_type": "code",
      "metadata": {
        "id": "NtygnOPjo-Ll",
        "colab": {
          "base_uri": "https://localhost:8080/"
        },
        "outputId": "c043080e-3a9e-41a3-f0b6-6e3952e49b5b"
      },
      "source": [
        "#prediction \n",
        "from sklearn.model_selection import train_test_split\n",
        "from sklearn.ensemble import RandomForestRegressor\n",
        "from sklearn.preprocessing import StandardScaler\n",
        "from sklearn.model_selection import train_test_split\n",
        "from sklearn.pipeline import make_pipeline\n",
        "from sklearn.preprocessing import StandardScaler\n",
        "from sklearn.linear_model import LinearRegression\n",
        "\n",
        "\n",
        "y=df_min_toulouse['Prix au m²(€)']\n",
        "X=df_min_toulouse.drop(columns=['valeur_fonciere', 'Prix au m²(€)', 'Adresse', 'type_local','nature_mutation', 'code_postal', \n",
        "                             'date_mutation'])\n",
        "X_train, X_test, y_train, y_test = train_test_split(X, y, test_size=0.2)\n",
        "scaler=StandardScaler()\n",
        "#X_train=scaler.fit_transform(X_train)\n",
        "pipe = make_pipeline(StandardScaler(), RandomForestRegressor())\n",
        "pipe.fit(X_train, y_train)"
      ],
      "execution_count": null,
      "outputs": [
        {
          "output_type": "execute_result",
          "data": {
            "text/plain": [
              "Pipeline(memory=None,\n",
              "         steps=[('standardscaler',\n",
              "                 StandardScaler(copy=True, with_mean=True, with_std=True)),\n",
              "                ('randomforestregressor',\n",
              "                 RandomForestRegressor(bootstrap=True, ccp_alpha=0.0,\n",
              "                                       criterion='mse', max_depth=None,\n",
              "                                       max_features='auto', max_leaf_nodes=None,\n",
              "                                       max_samples=None,\n",
              "                                       min_impurity_decrease=0.0,\n",
              "                                       min_impurity_split=None,\n",
              "                                       min_samples_leaf=1, min_samples_split=2,\n",
              "                                       min_weight_fraction_leaf=0.0,\n",
              "                                       n_estimators=100, n_jobs=None,\n",
              "                                       oob_score=False, random_state=None,\n",
              "                                       verbose=0, warm_start=False))],\n",
              "         verbose=False)"
            ]
          },
          "metadata": {
            "tags": []
          },
          "execution_count": 406
        }
      ]
    },
    {
      "cell_type": "code",
      "metadata": {
        "id": "2ysBkoOhuoiC"
      },
      "source": [
        "y_pred = pipe.predict(X_test)"
      ],
      "execution_count": null,
      "outputs": []
    },
    {
      "cell_type": "code",
      "metadata": {
        "colab": {
          "base_uri": "https://localhost:8080/"
        },
        "id": "tuyi2YrLuiop",
        "outputId": "ac56f678-9e72-4470-97fa-5f772d98e196"
      },
      "source": [
        "pipe.score(X_test, y_test)"
      ],
      "execution_count": null,
      "outputs": [
        {
          "output_type": "execute_result",
          "data": {
            "text/plain": [
              "0.6628717600726801"
            ]
          },
          "metadata": {
            "tags": []
          },
          "execution_count": 410
        }
      ]
    },
    {
      "cell_type": "code",
      "metadata": {
        "id": "vbAzD12kZHsk",
        "colab": {
          "base_uri": "https://localhost:8080/"
        },
        "outputId": "2cb855f2-c88c-4173-c96e-d03b61c6858a"
      },
      "source": [
        "from sklearn.metrics import r2_score\n",
        "\n",
        "r2_score(y_test, y_pred)"
      ],
      "execution_count": null,
      "outputs": [
        {
          "output_type": "execute_result",
          "data": {
            "text/plain": [
              "0.6628717600726801"
            ]
          },
          "metadata": {
            "tags": []
          },
          "execution_count": 409
        }
      ]
    }
  ]
}